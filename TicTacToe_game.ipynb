{
 "cells": [
  {
   "cell_type": "code",
   "execution_count": null,
   "id": "2da66b37",
   "metadata": {},
   "outputs": [],
   "source": [
    "from IPython.display import clear_output\n",
    "\n",
    "def disp_board(board):\n",
    "    \n",
    "    clear_output()\n",
    "    print(board[1]+' | '+board[2]+' | '+board[3])\n",
    "    print()\n",
    "    print(board[4]+' | '+board[5]+' | '+board[6])\n",
    "    print()\n",
    "    print(board[7]+' | '+board[8]+' | '+board[9])"
   ]
  },
  {
   "cell_type": "code",
   "execution_count": 2,
   "id": "56928fbe",
   "metadata": {},
   "outputs": [],
   "source": [
    "def pl_input():\n",
    "    marker = ''\n",
    "    \n",
    "    while marker !='X' and marker !='O':\n",
    "        marker = input('Player1: choose X or O').upper()\n",
    "        \n",
    "    if marker=='X':\n",
    "        return ('X','O')\n",
    "    else:\n",
    "        return ('O','X')"
   ]
  },
  {
   "cell_type": "code",
   "execution_count": 3,
   "id": "0fb94c64",
   "metadata": {},
   "outputs": [],
   "source": [
    "def pl_marker(board,marker,pos):\n",
    "    board[pos] = marker"
   ]
  },
  {
   "cell_type": "code",
   "execution_count": 4,
   "id": "830be68a",
   "metadata": {},
   "outputs": [],
   "source": [
    "def win_check(board,mark):\n",
    "    for i in range(1,7):\n",
    "        if((board[i]==mark and board[i+1]==mark and board[i+2]==mark) or \n",
    "        (board[1]==mark and board[5]==mark and board[9]==mark) or\n",
    "        (board[3]==mark and board[5]==mark and board[7]==mark) or\n",
    "        (board[1]==mark and board[4]==mark and board[7]==mark) or\n",
    "        (board[2]==mark and board[5]==mark and board[8]==mark)or\n",
    "        (board[3]==mark and board[6]==mark and board[9]==mark)):\n",
    "            return True\n",
    "        else:\n",
    "            return False\n",
    "        i+3"
   ]
  },
  {
   "cell_type": "code",
   "execution_count": 5,
   "id": "126bbfb5",
   "metadata": {},
   "outputs": [],
   "source": [
    "import random\n",
    "\n",
    "def choose_first():\n",
    "    flip = random.randint(0,1)\n",
    "    \n",
    "    if flip == 0:\n",
    "        return 'Player 1'\n",
    "    else:\n",
    "        return 'Player 2'"
   ]
  },
  {
   "cell_type": "code",
   "execution_count": 6,
   "id": "074ebf5e",
   "metadata": {},
   "outputs": [],
   "source": [
    "def space_check(board,pos):\n",
    "    return board[pos] == ' '"
   ]
  },
  {
   "cell_type": "code",
   "execution_count": 7,
   "id": "e90d3057",
   "metadata": {},
   "outputs": [],
   "source": [
    "def full_board(board):\n",
    "    for i in range(1,10):\n",
    "        if space_check(board,i):\n",
    "            return False\n",
    "    return True"
   ]
  },
  {
   "cell_type": "code",
   "execution_count": 8,
   "id": "4cb7d703",
   "metadata": {},
   "outputs": [],
   "source": [
    "def player_choice(board):\n",
    "    pos = 0\n",
    "    \n",
    "    while pos not in [1,2,3,4,5,6,7,8,9] or not space_check(board,pos):\n",
    "        pos = int(input('Choose a position(1-9): '))\n",
    "        return pos"
   ]
  },
  {
   "cell_type": "code",
   "execution_count": 9,
   "id": "150cd0ac",
   "metadata": {},
   "outputs": [],
   "source": [
    "def replay():\n",
    "    choice = input('Wanna play again? Enter Y/N')\n",
    "    \n",
    "    return choice=='Y'"
   ]
  },
  {
   "cell_type": "code",
   "execution_count": 10,
   "id": "816363ec",
   "metadata": {
    "scrolled": false
   },
   "outputs": [
    {
     "name": "stdout",
     "output_type": "stream",
     "text": [
      "Thanks for playing..\n"
     ]
    }
   ],
   "source": [
    "print('Welcome to Tic Tac Toe game')\n",
    "\n",
    "while True:\n",
    "    \n",
    "    brd = [' ']*10\n",
    "    player1_marker,player2_marker = pl_input()\n",
    "    \n",
    "    turn = choose_first()\n",
    "    print()\n",
    "    print(turn + ' will go first.\\n')\n",
    "    \n",
    "    play_game = input('Ready to play? y or n\\n')\n",
    "    \n",
    "    if play_game=='y':\n",
    "        game_on=True\n",
    "    else:\n",
    "        game_on=False\n",
    "    \n",
    "    while game_on:\n",
    "        if turn=='Player 1':\n",
    "            disp_board(brd)\n",
    "            pos = player_choice(brd)\n",
    "            pl_marker(brd,player1_marker,pos)\n",
    "            \n",
    "            if win_check(brd,player1_marker):\n",
    "                disp_board(brd)\n",
    "                print('PLAYER_1 HAS WON!!')\n",
    "                game_on = False\n",
    "            else:\n",
    "                if full_board(brd):\n",
    "                    disp_board(brd)\n",
    "                    print('Its a tie..')\n",
    "                    break\n",
    "                else:\n",
    "                    turn = 'Player 2'\n",
    "            \n",
    "        else:\n",
    "            disp_board(brd)\n",
    "            pos = player_choice(brd)\n",
    "            pl_marker(brd,player2_marker,pos)\n",
    "            \n",
    "            if win_check(brd,player2_marker):\n",
    "                disp_board(brd)\n",
    "                print('PLAYER_2 HAS WON!!')\n",
    "                game_on = False\n",
    "            else:\n",
    "                if full_board(brd):\n",
    "                    disp_board(brd)\n",
    "                    print('Its a tie..')\n",
    "                    break\n",
    "                else:\n",
    "                    turn = 'Player 1'\n",
    "                    \n",
    "    \n",
    "    if not replay():\n",
    "        clear_output()\n",
    "        print('Thanks for playing..')\n",
    "        break"
   ]
  },
  {
   "cell_type": "code",
   "execution_count": null,
   "id": "019106cd",
   "metadata": {},
   "outputs": [],
   "source": []
  }
 ],
 "metadata": {
  "kernelspec": {
   "display_name": "Python 3 (ipykernel)",
   "language": "python",
   "name": "python3"
  },
  "language_info": {
   "codemirror_mode": {
    "name": "ipython",
    "version": 3
   },
   "file_extension": ".py",
   "mimetype": "text/x-python",
   "name": "python",
   "nbconvert_exporter": "python",
   "pygments_lexer": "ipython3",
   "version": "3.10.9"
  }
 },
 "nbformat": 4,
 "nbformat_minor": 5
}
